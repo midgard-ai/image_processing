{
 "cells": [
  {
   "cell_type": "code",
   "execution_count": null,
   "metadata": {},
   "outputs": [],
   "source": [
    "import skimage, PIL, numpy\n",
    "\n",
    "import numpy as np\n",
    "from PIL import Image, ImageFont, ImageDraw\n",
    "from PIL.ImageChops import add, subtract, multiply, difference, screen\n",
    "import PIL.ImageStat as stat\n",
    "from skimage.io import imread, imsave, imshow, show, imread_collection, imshow_collection\n",
    "from skimage import color, viewer, exposure, img_as_float, data\n",
    "from skimage.transform import SimilarityTransform, warp, swirl\n",
    "from skimage.util import invert, random_noise, montage\n",
    "import matplotlib.image as mpimg\n",
    "import matplotlib.pylab as plt\n",
    "from scipy.ndimage import affine_transform, zoom\n",
    "from scipy import misc\n",
    "import utm\n",
    "import geopandas as gpd\n",
    "import pandas as pd\n",
    "\n",
    "# calcul matriciel\n",
    "import numpy as np\n",
    "#statistics\n",
    "import scipy\n",
    "from scipy import stats\n",
    "#plot graphique\n",
    "import matplotlib.pyplot as plt\n",
    "import seaborn as sns\n",
    "import osgeo\n",
    "from skimage.exposure import rescale_intensity\n",
    "from skimage.segmentation import slic\n",
    "from skimage.util import img_as_float\n",
    "from skimage import io\n",
    "from skimage.segmentation import mark_boundaries\n",
    "import argparse\n",
    "from osgeo import gdal\n",
    "from matplotlib.offsetbox import AnchoredText\n",
    "from matplotlib.offsetbox import TextArea, VPacker, AnnotationBbox\n",
    "from jupyterthemes import jtplot\n",
    "from scipy import ndimage, misc, signal"
   ]
  },
  {
   "cell_type": "code",
   "execution_count": null,
   "metadata": {},
   "outputs": [],
   "source": [
    "test = Image.open('../data_features/test.tif')\n",
    "test_HSV = test.convert('HSV')\n",
    "matrice = (np.array(test_HSV))\n",
    "h = pd.DataFrame(np.ravel(matrice[:,:,0]))\n",
    "s = pd.DataFrame(np.ravel(matrice[:,:,1]))\n",
    "v = pd.DataFrame(np.ravel(matrice[:,:,2]))"
   ]
  },
  {
   "cell_type": "code",
   "execution_count": null,
   "metadata": {},
   "outputs": [],
   "source": [
    "test = Image.open('../data_features/test.tif')\n",
    "test_gray = test.convert('L')\n",
    "matrice = (np.array(test_gray))\n",
    "\n",
    "img = matrice\n",
    "#img_eq = exposure.equalize_hist(im)\n",
    "blur_box_kernel = np.ones((100,100)) / 9\n",
    "\n",
    "img = signal.convolve2d(img, blur_box_kernel)"
   ]
  },
  {
   "cell_type": "code",
   "execution_count": null,
   "metadata": {},
   "outputs": [],
   "source": [
    "import numpy as np\n",
    "import cv2\n",
    "\n",
    "img = matrice\n",
    "Z = img.reshape((-1,1))\n",
    "\n",
    "# convert to np.float32\n",
    "Z = np.float32(Z)\n",
    "\n",
    "# define criteria, number of clusters(K) and apply kmeans()\n",
    "criteria = (cv2.TERM_CRITERIA_EPS + cv2.TERM_CRITERIA_MAX_ITER, 1, 1.0)\n",
    "K = 2\n",
    "ret,label,center=cv2.kmeans(Z,K,None,criteria,10,cv2.KMEANS_RANDOM_CENTERS)\n",
    "\n",
    "# Now convert back into uint8, and make original image\n",
    "center = np.uint8(center)\n",
    "res = center[label.flatten()]\n",
    "res2 = res.reshape((img.shape))\n",
    "\n",
    "cv2.imshow('res'+str(K),res2)\n",
    "cv2.waitKey(0)\n",
    "cv2.destroyAllWindows()\n",
    "cv2.savefig('chemin.png')"
   ]
  },
  {
   "cell_type": "code",
   "execution_count": null,
   "metadata": {},
   "outputs": [],
   "source": [
    "img[:3]"
   ]
  },
  {
   "cell_type": "code",
   "execution_count": null,
   "metadata": {},
   "outputs": [],
   "source": []
  }
 ],
 "metadata": {
  "kernelspec": {
   "display_name": "Python 3",
   "language": "python",
   "name": "python3"
  },
  "language_info": {
   "codemirror_mode": {
    "name": "ipython",
    "version": 3
   },
   "file_extension": ".py",
   "mimetype": "text/x-python",
   "name": "python",
   "nbconvert_exporter": "python",
   "pygments_lexer": "ipython3",
   "version": "3.7.3"
  }
 },
 "nbformat": 4,
 "nbformat_minor": 2
}

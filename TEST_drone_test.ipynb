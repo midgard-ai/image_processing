{
 "cells": [
  {
   "cell_type": "markdown",
   "metadata": {
    "toc": true
   },
   "source": [
    "<h1>Table of Contents<span class=\"tocSkip\"></span></h1>\n",
    "<div class=\"toc\"><ul class=\"toc-item\"></ul></div>"
   ]
  },
  {
   "cell_type": "code",
   "execution_count": 2,
   "metadata": {},
   "outputs": [],
   "source": [
    "# fichier/tableaux\n",
    "import pandas as pd\n",
    "\n",
    "# calcul matriciel\n",
    "import numpy as np\n",
    "#statistics\n",
    "import scipy\n",
    "from scipy import stats\n",
    "#plot graphique\n",
    "import matplotlib.pyplot as plt\n",
    "import seaborn as sns\n",
    "#Algorithm clustering\n",
    "from sklearn.cluster import KMeans\n",
    "from sklearn import decomposition\n",
    "#Image processing, computer vision\n",
    "import skimage.data as data\n",
    "import skimage.segmentation as seg\n",
    "import skimage.filters as filters\n",
    "import skimage.draw as draw\n",
    "import skimage.color as color\n",
    "import utm\n",
    "import geopandas as gpd\n",
    "from arcgis.geoanalytics.summarize_data import aggregate_points"
   ]
  },
  {
   "cell_type": "code",
   "execution_count": 10,
   "metadata": {},
   "outputs": [],
   "source": [
    "import dask.dataframe as dd\n",
    "colnames = ['X','Y','Z','R','G','B']\n",
    "t2 = dd.read_csv('test.txt',sep=' ',names=colnames,header=None)\n"
   ]
  },
  {
   "cell_type": "code",
   "execution_count": 11,
   "metadata": {},
   "outputs": [],
   "source": [
    "t2 = t2.head(50000)"
   ]
  },
  {
   "cell_type": "code",
   "execution_count": 12,
   "metadata": {},
   "outputs": [],
   "source": [
    "a = t2.apply(lambda row: utm.to_latlon(t2.X, t2.Y, 32,'T'),axis=1)"
   ]
  },
  {
   "cell_type": "code",
   "execution_count": 13,
   "metadata": {},
   "outputs": [],
   "source": [
    "%%time\n",
    "t2['latitude'] = a[0][0]\n",
    "\n",
    "t2['longitude'] = a[0][1]\n",
    "t2.to_csv(\"/Users/karinepetrus/Desktop/these_pro/Meteo_visualisation/geo_corse_test_dd2.csv\")"
   ]
  },
  {
   "cell_type": "code",
   "execution_count": 8,
   "metadata": {},
   "outputs": [
    {
     "data": {
      "text/html": [
       "<div>\n",
       "<style scoped>\n",
       "    .dataframe tbody tr th:only-of-type {\n",
       "        vertical-align: middle;\n",
       "    }\n",
       "\n",
       "    .dataframe tbody tr th {\n",
       "        vertical-align: top;\n",
       "    }\n",
       "\n",
       "    .dataframe thead th {\n",
       "        text-align: right;\n",
       "    }\n",
       "</style>\n",
       "<table border=\"1\" class=\"dataframe\">\n",
       "  <thead>\n",
       "    <tr style=\"text-align: right;\">\n",
       "      <th></th>\n",
       "      <th>X</th>\n",
       "      <th>Y</th>\n",
       "      <th>Z</th>\n",
       "      <th>R</th>\n",
       "      <th>G</th>\n",
       "      <th>B</th>\n",
       "      <th>latitude</th>\n",
       "      <th>longitude</th>\n",
       "    </tr>\n",
       "  </thead>\n",
       "  <tbody>\n",
       "    <tr>\n",
       "      <th>0</th>\n",
       "      <td>492208.220001</td>\n",
       "      <td>4.651216e+06</td>\n",
       "      <td>224.860001</td>\n",
       "      <td>56</td>\n",
       "      <td>62</td>\n",
       "      <td>21</td>\n",
       "      <td>42.012930</td>\n",
       "      <td>8.905897</td>\n",
       "    </tr>\n",
       "    <tr>\n",
       "      <th>1</th>\n",
       "      <td>492208.230003</td>\n",
       "      <td>4.651216e+06</td>\n",
       "      <td>224.860001</td>\n",
       "      <td>42</td>\n",
       "      <td>48</td>\n",
       "      <td>18</td>\n",
       "      <td>42.012926</td>\n",
       "      <td>8.905897</td>\n",
       "    </tr>\n",
       "    <tr>\n",
       "      <th>2</th>\n",
       "      <td>492208.300003</td>\n",
       "      <td>4.651215e+06</td>\n",
       "      <td>224.770004</td>\n",
       "      <td>43</td>\n",
       "      <td>47</td>\n",
       "      <td>22</td>\n",
       "      <td>42.012924</td>\n",
       "      <td>8.905898</td>\n",
       "    </tr>\n",
       "    <tr>\n",
       "      <th>3</th>\n",
       "      <td>492208.190002</td>\n",
       "      <td>4.651209e+06</td>\n",
       "      <td>225.240005</td>\n",
       "      <td>64</td>\n",
       "      <td>71</td>\n",
       "      <td>20</td>\n",
       "      <td>42.012870</td>\n",
       "      <td>8.905897</td>\n",
       "    </tr>\n",
       "    <tr>\n",
       "      <th>4</th>\n",
       "      <td>492208.180000</td>\n",
       "      <td>4.651209e+06</td>\n",
       "      <td>225.289993</td>\n",
       "      <td>64</td>\n",
       "      <td>71</td>\n",
       "      <td>22</td>\n",
       "      <td>42.012866</td>\n",
       "      <td>8.905897</td>\n",
       "    </tr>\n",
       "  </tbody>\n",
       "</table>\n",
       "</div>"
      ],
      "text/plain": [
       "               X             Y           Z   R   G   B   latitude  longitude\n",
       "0  492208.220001  4.651216e+06  224.860001  56  62  21  42.012930   8.905897\n",
       "1  492208.230003  4.651216e+06  224.860001  42  48  18  42.012926   8.905897\n",
       "2  492208.300003  4.651215e+06  224.770004  43  47  22  42.012924   8.905898\n",
       "3  492208.190002  4.651209e+06  225.240005  64  71  20  42.012870   8.905897\n",
       "4  492208.180000  4.651209e+06  225.289993  64  71  22  42.012866   8.905897"
      ]
     },
     "execution_count": 8,
     "metadata": {},
     "output_type": "execute_result"
    }
   ],
   "source": [
    "t2.head()"
   ]
  },
  {
   "cell_type": "code",
   "execution_count": null,
   "metadata": {},
   "outputs": [],
   "source": []
  }
 ],
 "metadata": {
  "kernelspec": {
   "display_name": "Python 3",
   "language": "python",
   "name": "python3"
  },
  "language_info": {
   "codemirror_mode": {
    "name": "ipython",
    "version": 3
   },
   "file_extension": ".py",
   "mimetype": "text/x-python",
   "name": "python",
   "nbconvert_exporter": "python",
   "pygments_lexer": "ipython3",
   "version": "3.7.3"
  },
  "latex_envs": {
   "LaTeX_envs_menu_present": true,
   "autoclose": false,
   "autocomplete": true,
   "bibliofile": "biblio.bib",
   "cite_by": "apalike",
   "current_citInitial": 1,
   "eqLabelWithNumbers": true,
   "eqNumInitial": 1,
   "hotkeys": {
    "equation": "Ctrl-E",
    "itemize": "Ctrl-I"
   },
   "labels_anchors": false,
   "latex_user_defs": false,
   "report_style_numbering": false,
   "user_envs_cfg": false
  },
  "toc": {
   "base_numbering": 1,
   "nav_menu": {},
   "number_sections": true,
   "sideBar": true,
   "skip_h1_title": true,
   "title_cell": "Table of Contents",
   "title_sidebar": "Contents",
   "toc_cell": true,
   "toc_position": {},
   "toc_section_display": true,
   "toc_window_display": false
  }
 },
 "nbformat": 4,
 "nbformat_minor": 2
}

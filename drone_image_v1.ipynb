{
 "cells": [
  {
   "cell_type": "markdown",
   "metadata": {
    "toc": true
   },
   "source": [
    "<h1>Table of Contents<span class=\"tocSkip\"></span></h1>\n",
    "<div class=\"toc\"><ul class=\"toc-item\"><li><span><a href=\"#Observations-:\" data-toc-modified-id=\"Observations-:-1\"><span class=\"toc-item-num\">1&nbsp;&nbsp;</span>Observations :</a></span><ul class=\"toc-item\"><li><span><a href=\"#Clustering-avec-toutes-les-features\" data-toc-modified-id=\"Clustering-avec-toutes-les-features-1.1\"><span class=\"toc-item-num\">1.1&nbsp;&nbsp;</span>Clustering avec toutes les features</a></span></li><li><span><a href=\"#Clustering-avec-seulement-RGB\" data-toc-modified-id=\"Clustering-avec-seulement-RGB-1.2\"><span class=\"toc-item-num\">1.2&nbsp;&nbsp;</span>Clustering avec seulement RGB</a></span></li><li><span><a href=\"#Observation-:\" data-toc-modified-id=\"Observation-:-1.3\"><span class=\"toc-item-num\">1.3&nbsp;&nbsp;</span>Observation :</a></span></li></ul></li><li><span><a href=\"#Clustering-with-HSV\" data-toc-modified-id=\"Clustering-with-HSV-2\"><span class=\"toc-item-num\">2&nbsp;&nbsp;</span>Clustering with HSV</a></span></li><li><span><a href=\"#Contour-with-scikit-image\" data-toc-modified-id=\"Contour-with-scikit-image-3\"><span class=\"toc-item-num\">3&nbsp;&nbsp;</span>Contour with scikit image</a></span></li></ul></div>"
   ]
  },
  {
   "cell_type": "code",
   "execution_count": 3,
   "metadata": {},
   "outputs": [],
   "source": [
    "# fichier/tableaux\n",
    "import pandas as pd\n",
    "\n",
    "# calcul matriciel\n",
    "import numpy as np\n",
    "#statistics\n",
    "import scipy\n",
    "from scipy import stats\n",
    "#plot graphique\n",
    "import matplotlib.pyplot as plt\n",
    "import seaborn as sns\n",
    "#Algorithm clustering\n",
    "from sklearn.cluster import KMeans\n",
    "from sklearn import decomposition\n",
    "#Image processing, computer vision\n",
    "import skimage.data as data\n",
    "import skimage.segmentation as seg\n",
    "import skimage.filters as filters\n",
    "import skimage.draw as draw\n",
    "import skimage.color as color\n",
    "import utm\n",
    "import geopandas as gpd"
   ]
  },
  {
   "cell_type": "code",
   "execution_count": 4,
   "metadata": {},
   "outputs": [],
   "source": [
    "colnames = ['X','Y','Z','R','G','B']"
   ]
  },
  {
   "cell_type": "code",
   "execution_count": 5,
   "metadata": {},
   "outputs": [],
   "source": [
    "t2 = pd.read_csv('test.txt',sep=' ',names=colnames,header=None)"
   ]
  },
  {
   "cell_type": "code",
   "execution_count": 6,
   "metadata": {},
   "outputs": [],
   "source": [
    "t2 =t2.head(100000)"
   ]
  },
  {
   "cell_type": "code",
   "execution_count": null,
   "metadata": {},
   "outputs": [],
   "source": [
    "a = t2.apply(lambda row: utm.to_latlon(t2.X, t2.Y, 32,'T'),axis=1)"
   ]
  },
  {
   "cell_type": "code",
   "execution_count": null,
   "metadata": {},
   "outputs": [],
   "source": [
    "t2['latitude'] = a[0][0]\n",
    "\n",
    "t2['longitude'] = a[0][1]\n",
    "t2.head()"
   ]
  },
  {
   "cell_type": "code",
   "execution_count": 20,
   "metadata": {},
   "outputs": [
    {
     "data": {
      "text/html": [
       "<div>\n",
       "<style scoped>\n",
       "    .dataframe tbody tr th:only-of-type {\n",
       "        vertical-align: middle;\n",
       "    }\n",
       "\n",
       "    .dataframe tbody tr th {\n",
       "        vertical-align: top;\n",
       "    }\n",
       "\n",
       "    .dataframe thead th {\n",
       "        text-align: right;\n",
       "    }\n",
       "</style>\n",
       "<table border=\"1\" class=\"dataframe\">\n",
       "  <thead>\n",
       "    <tr style=\"text-align: right;\">\n",
       "      <th></th>\n",
       "      <th>X</th>\n",
       "      <th>Y</th>\n",
       "      <th>Z</th>\n",
       "      <th>R</th>\n",
       "      <th>G</th>\n",
       "      <th>B</th>\n",
       "      <th>lon</th>\n",
       "      <th>lat</th>\n",
       "      <th>geometry</th>\n",
       "    </tr>\n",
       "  </thead>\n",
       "  <tbody>\n",
       "    <tr>\n",
       "      <th>0</th>\n",
       "      <td>492208.220001</td>\n",
       "      <td>4.651216e+06</td>\n",
       "      <td>224.860001</td>\n",
       "      <td>56</td>\n",
       "      <td>62</td>\n",
       "      <td>21</td>\n",
       "      <td>42.012930</td>\n",
       "      <td>8.905897</td>\n",
       "      <td>POINT (42.01293007041956 8.905897351068731)</td>\n",
       "    </tr>\n",
       "    <tr>\n",
       "      <th>1</th>\n",
       "      <td>492208.230003</td>\n",
       "      <td>4.651216e+06</td>\n",
       "      <td>224.860001</td>\n",
       "      <td>42</td>\n",
       "      <td>48</td>\n",
       "      <td>18</td>\n",
       "      <td>42.012926</td>\n",
       "      <td>8.905897</td>\n",
       "      <td>POINT (42.01292646791945 8.905897477176387)</td>\n",
       "    </tr>\n",
       "    <tr>\n",
       "      <th>2</th>\n",
       "      <td>492208.300003</td>\n",
       "      <td>4.651215e+06</td>\n",
       "      <td>224.770004</td>\n",
       "      <td>43</td>\n",
       "      <td>47</td>\n",
       "      <td>22</td>\n",
       "      <td>42.012924</td>\n",
       "      <td>8.905898</td>\n",
       "      <td>POINT (42.01292358642328 8.90589832682171)</td>\n",
       "    </tr>\n",
       "    <tr>\n",
       "      <th>3</th>\n",
       "      <td>492208.190002</td>\n",
       "      <td>4.651209e+06</td>\n",
       "      <td>225.240005</td>\n",
       "      <td>64</td>\n",
       "      <td>71</td>\n",
       "      <td>20</td>\n",
       "      <td>42.012870</td>\n",
       "      <td>8.905897</td>\n",
       "      <td>POINT (42.01286972569382 8.905897077717535)</td>\n",
       "    </tr>\n",
       "    <tr>\n",
       "      <th>4</th>\n",
       "      <td>492208.180000</td>\n",
       "      <td>4.651209e+06</td>\n",
       "      <td>225.289993</td>\n",
       "      <td>64</td>\n",
       "      <td>71</td>\n",
       "      <td>22</td>\n",
       "      <td>42.012866</td>\n",
       "      <td>8.905897</td>\n",
       "      <td>POINT (42.01286576265329 8.905896962761824)</td>\n",
       "    </tr>\n",
       "  </tbody>\n",
       "</table>\n",
       "</div>"
      ],
      "text/plain": [
       "               X             Y           Z   R   G   B        lon       lat  \\\n",
       "0  492208.220001  4.651216e+06  224.860001  56  62  21  42.012930  8.905897   \n",
       "1  492208.230003  4.651216e+06  224.860001  42  48  18  42.012926  8.905897   \n",
       "2  492208.300003  4.651215e+06  224.770004  43  47  22  42.012924  8.905898   \n",
       "3  492208.190002  4.651209e+06  225.240005  64  71  20  42.012870  8.905897   \n",
       "4  492208.180000  4.651209e+06  225.289993  64  71  22  42.012866  8.905897   \n",
       "\n",
       "                                      geometry  \n",
       "0  POINT (42.01293007041956 8.905897351068731)  \n",
       "1  POINT (42.01292646791945 8.905897477176387)  \n",
       "2   POINT (42.01292358642328 8.90589832682171)  \n",
       "3  POINT (42.01286972569382 8.905897077717535)  \n",
       "4  POINT (42.01286576265329 8.905896962761824)  "
      ]
     },
     "execution_count": 20,
     "metadata": {},
     "output_type": "execute_result"
    }
   ],
   "source": [
    "gdf = gpd.GeoDataFrame(t2, geometry=gpd.points_from_xy(t2.lon, t2.lat))\n",
    "gdf.head()"
   ]
  },
  {
   "cell_type": "code",
   "execution_count": 15,
   "metadata": {},
   "outputs": [],
   "source": [
    "gdf.crs = {'init': 'epsg:4326', 'no_defs': True}"
   ]
  },
  {
   "cell_type": "markdown",
   "metadata": {},
   "source": [
    "https://stackoverflow.com/questions/38961816/geopandas-set-crs-on-points"
   ]
  },
  {
   "cell_type": "code",
   "execution_count": 16,
   "metadata": {},
   "outputs": [],
   "source": [
    "gdf.to_crs({'init': 'epsg:4326'}, inplace=True)"
   ]
  },
  {
   "cell_type": "code",
   "execution_count": 17,
   "metadata": {},
   "outputs": [
    {
     "data": {
      "text/html": [
       "<div>\n",
       "<style scoped>\n",
       "    .dataframe tbody tr th:only-of-type {\n",
       "        vertical-align: middle;\n",
       "    }\n",
       "\n",
       "    .dataframe tbody tr th {\n",
       "        vertical-align: top;\n",
       "    }\n",
       "\n",
       "    .dataframe thead th {\n",
       "        text-align: right;\n",
       "    }\n",
       "</style>\n",
       "<table border=\"1\" class=\"dataframe\">\n",
       "  <thead>\n",
       "    <tr style=\"text-align: right;\">\n",
       "      <th></th>\n",
       "      <th>X</th>\n",
       "      <th>Y</th>\n",
       "      <th>Z</th>\n",
       "      <th>R</th>\n",
       "      <th>G</th>\n",
       "      <th>B</th>\n",
       "      <th>lon</th>\n",
       "      <th>lat</th>\n",
       "      <th>geometry</th>\n",
       "    </tr>\n",
       "  </thead>\n",
       "  <tbody>\n",
       "    <tr>\n",
       "      <th>0</th>\n",
       "      <td>492208.220001</td>\n",
       "      <td>4.651216e+06</td>\n",
       "      <td>224.860001</td>\n",
       "      <td>56</td>\n",
       "      <td>62</td>\n",
       "      <td>21</td>\n",
       "      <td>42.012930</td>\n",
       "      <td>8.905897</td>\n",
       "      <td>POINT (492208.22000122 4651216.11999512)</td>\n",
       "    </tr>\n",
       "    <tr>\n",
       "      <th>1</th>\n",
       "      <td>492208.230003</td>\n",
       "      <td>4.651216e+06</td>\n",
       "      <td>224.860001</td>\n",
       "      <td>42</td>\n",
       "      <td>48</td>\n",
       "      <td>18</td>\n",
       "      <td>42.012926</td>\n",
       "      <td>8.905897</td>\n",
       "      <td>POINT (492208.2300033601 4651215.72000122)</td>\n",
       "    </tr>\n",
       "    <tr>\n",
       "      <th>2</th>\n",
       "      <td>492208.300003</td>\n",
       "      <td>4.651215e+06</td>\n",
       "      <td>224.770004</td>\n",
       "      <td>43</td>\n",
       "      <td>47</td>\n",
       "      <td>22</td>\n",
       "      <td>42.012924</td>\n",
       "      <td>8.905898</td>\n",
       "      <td>POINT (492208.3000030501 4651215.399993901)</td>\n",
       "    </tr>\n",
       "    <tr>\n",
       "      <th>3</th>\n",
       "      <td>492208.190002</td>\n",
       "      <td>4.651209e+06</td>\n",
       "      <td>225.240005</td>\n",
       "      <td>64</td>\n",
       "      <td>71</td>\n",
       "      <td>20</td>\n",
       "      <td>42.012870</td>\n",
       "      <td>8.905897</td>\n",
       "      <td>POINT (492208.1900024401 4651209.41999817)</td>\n",
       "    </tr>\n",
       "    <tr>\n",
       "      <th>4</th>\n",
       "      <td>492208.180000</td>\n",
       "      <td>4.651209e+06</td>\n",
       "      <td>225.289993</td>\n",
       "      <td>64</td>\n",
       "      <td>71</td>\n",
       "      <td>22</td>\n",
       "      <td>42.012866</td>\n",
       "      <td>8.905897</td>\n",
       "      <td>POINT (492208.18000031 4651208.97999573)</td>\n",
       "    </tr>\n",
       "  </tbody>\n",
       "</table>\n",
       "</div>"
      ],
      "text/plain": [
       "               X             Y           Z   R   G   B        lon       lat  \\\n",
       "0  492208.220001  4.651216e+06  224.860001  56  62  21  42.012930  8.905897   \n",
       "1  492208.230003  4.651216e+06  224.860001  42  48  18  42.012926  8.905897   \n",
       "2  492208.300003  4.651215e+06  224.770004  43  47  22  42.012924  8.905898   \n",
       "3  492208.190002  4.651209e+06  225.240005  64  71  20  42.012870  8.905897   \n",
       "4  492208.180000  4.651209e+06  225.289993  64  71  22  42.012866  8.905897   \n",
       "\n",
       "                                      geometry  \n",
       "0     POINT (492208.22000122 4651216.11999512)  \n",
       "1   POINT (492208.2300033601 4651215.72000122)  \n",
       "2  POINT (492208.3000030501 4651215.399993901)  \n",
       "3   POINT (492208.1900024401 4651209.41999817)  \n",
       "4     POINT (492208.18000031 4651208.97999573)  "
      ]
     },
     "execution_count": 17,
     "metadata": {},
     "output_type": "execute_result"
    }
   ],
   "source": [
    "gdf.head()"
   ]
  },
  {
   "cell_type": "code",
   "execution_count": 22,
   "metadata": {},
   "outputs": [],
   "source": [
    "outfile = \"droneGeoJson.json\"\n",
    "gdf.to_file(outfile, driver='GeoJSON')"
   ]
  },
  {
   "cell_type": "code",
   "execution_count": 9,
   "metadata": {},
   "outputs": [],
   "source": [
    "t2 = t2.head(10)\n",
    "a = t2.apply(lambda row: utm.to_latlon(t2.X, t2.Y, 32,'T'),axis=1)\n"
   ]
  },
  {
   "cell_type": "code",
   "execution_count": null,
   "metadata": {},
   "outputs": [],
   "source": [
    "t2.to_csv(\"/Users/karinepetrus/Desktop/these_pro/Meteo_visualisation/geo_corse_test_2.csv\")"
   ]
  },
  {
   "cell_type": "markdown",
   "metadata": {},
   "source": [
    "# Exploring the data "
   ]
  },
  {
   "cell_type": "code",
   "execution_count": 19,
   "metadata": {},
   "outputs": [
    {
     "data": {
      "image/png": "[encoded data removed]",
      "text/plain": [
       "<Figure size 432x288 with 1 Axes>"
      ]
     },
     "metadata": {
      "needs_background": "light"
     },
     "output_type": "display_data"
    }
   ],
   "source": [
    "sns.distplot(t2['R'],color='r',label = 'Canal rouge')\n",
    "sns.distplot(t2['B'],color='b', label = 'Canal bleu')\n",
    "sns.distplot(t2['G'],color='g',label = 'Canal vert')\n",
    "plt.xlabel('R')\n",
    "plt.legend();"
   ]
  },
  {
   "cell_type": "code",
   "execution_count": 22,
   "metadata": {},
   "outputs": [
    {
     "data": {
      "text/html": [
       "<div>\n",
       "<style scoped>\n",
       "    .dataframe tbody tr th:only-of-type {\n",
       "        vertical-align: middle;\n",
       "    }\n",
       "\n",
       "    .dataframe tbody tr th {\n",
       "        vertical-align: top;\n",
       "    }\n",
       "\n",
       "    .dataframe thead th {\n",
       "        text-align: right;\n",
       "    }\n",
       "</style>\n",
       "<table border=\"1\" class=\"dataframe\">\n",
       "  <thead>\n",
       "    <tr style=\"text-align: right;\">\n",
       "      <th></th>\n",
       "      <th>R</th>\n",
       "      <th>G</th>\n",
       "      <th>B</th>\n",
       "    </tr>\n",
       "  </thead>\n",
       "  <tbody>\n",
       "    <tr>\n",
       "      <th>count</th>\n",
       "      <td>1.379716e+07</td>\n",
       "      <td>1.379716e+07</td>\n",
       "      <td>1.379716e+07</td>\n",
       "    </tr>\n",
       "    <tr>\n",
       "      <th>mean</th>\n",
       "      <td>8.533061e+01</td>\n",
       "      <td>8.370571e+01</td>\n",
       "      <td>3.856227e+01</td>\n",
       "    </tr>\n",
       "    <tr>\n",
       "      <th>std</th>\n",
       "      <td>3.292993e+01</td>\n",
       "      <td>2.604792e+01</td>\n",
       "      <td>1.868470e+01</td>\n",
       "    </tr>\n",
       "    <tr>\n",
       "      <th>min</th>\n",
       "      <td>8.000000e+00</td>\n",
       "      <td>1.100000e+01</td>\n",
       "      <td>6.000000e+00</td>\n",
       "    </tr>\n",
       "    <tr>\n",
       "      <th>25%</th>\n",
       "      <td>6.300000e+01</td>\n",
       "      <td>6.600000e+01</td>\n",
       "      <td>2.600000e+01</td>\n",
       "    </tr>\n",
       "    <tr>\n",
       "      <th>50%</th>\n",
       "      <td>8.100000e+01</td>\n",
       "      <td>8.200000e+01</td>\n",
       "      <td>3.300000e+01</td>\n",
       "    </tr>\n",
       "    <tr>\n",
       "      <th>75%</th>\n",
       "      <td>1.040000e+02</td>\n",
       "      <td>1.000000e+02</td>\n",
       "      <td>4.600000e+01</td>\n",
       "    </tr>\n",
       "    <tr>\n",
       "      <th>max</th>\n",
       "      <td>2.550000e+02</td>\n",
       "      <td>2.550000e+02</td>\n",
       "      <td>2.550000e+02</td>\n",
       "    </tr>\n",
       "  </tbody>\n",
       "</table>\n",
       "</div>"
      ],
      "text/plain": [
       "                  R             G             B\n",
       "count  1.379716e+07  1.379716e+07  1.379716e+07\n",
       "mean   8.533061e+01  8.370571e+01  3.856227e+01\n",
       "std    3.292993e+01  2.604792e+01  1.868470e+01\n",
       "min    8.000000e+00  1.100000e+01  6.000000e+00\n",
       "25%    6.300000e+01  6.600000e+01  2.600000e+01\n",
       "50%    8.100000e+01  8.200000e+01  3.300000e+01\n",
       "75%    1.040000e+02  1.000000e+02  4.600000e+01\n",
       "max    2.550000e+02  2.550000e+02  2.550000e+02"
      ]
     },
     "execution_count": 22,
     "metadata": {},
     "output_type": "execute_result"
    }
   ],
   "source": [
    "t2[['R','G','B']].describe()"
   ]
  },
  {
   "cell_type": "markdown",
   "metadata": {},
   "source": [
    "### Observations :"
   ]
  },
  {
   "cell_type": "markdown",
   "metadata": {},
   "source": [
    "1. We can observe 2 distinct distributions (R/G and B)"
   ]
  },
  {
   "cell_type": "markdown",
   "metadata": {},
   "source": [
    "# Clustering "
   ]
  },
  {
   "cell_type": "markdown",
   "metadata": {},
   "source": [
    "#### Clustering avec toutes les features"
   ]
  },
  {
   "cell_type": "code",
   "execution_count": 30,
   "metadata": {},
   "outputs": [],
   "source": [
    "X = t2\n",
    "kmeans = KMeans(n_clusters=2, random_state=0).fit(t2)#['R','G','B']"
   ]
  },
  {
   "cell_type": "code",
   "execution_count": 28,
   "metadata": {},
   "outputs": [
    {
     "data": {
      "text/plain": [
       "array([0, 0, 0, ..., 0, 0, 0], dtype=int32)"
      ]
     },
     "execution_count": 28,
     "metadata": {},
     "output_type": "execute_result"
    }
   ],
   "source": [
    "kmeans.labels_"
   ]
  },
  {
   "cell_type": "code",
   "execution_count": 54,
   "metadata": {},
   "outputs": [
    {
     "data": {
      "text/plain": [
       "array([0, 0, 0, ..., 1, 1, 1], dtype=int32)"
      ]
     },
     "execution_count": 54,
     "metadata": {},
     "output_type": "execute_result"
    }
   ],
   "source": [
    "y_kmeans = kmeans.predict(t2)\n"
   ]
  },
  {
   "cell_type": "code",
   "execution_count": 73,
   "metadata": {},
   "outputs": [
    {
     "name": "stdout",
     "output_type": "stream",
     "text": [
      "13797160\n"
     ]
    }
   ],
   "source": [
    "t2['label'] = y_kmeans\n",
    "t2.head()\n",
    "print(len(t2))"
   ]
  },
  {
   "cell_type": "code",
   "execution_count": 74,
   "metadata": {},
   "outputs": [
    {
     "data": {
      "text/plain": [
       "<matplotlib.collections.PathCollection at 0x190fe7240>"
      ]
     },
     "execution_count": 74,
     "metadata": {},
     "output_type": "execute_result"
    },
    {
     "data": {
      "image/png": "[encoded data removed]",
      "text/plain": [
       "<Figure size 432x288 with 1 Axes>"
      ]
     },
     "metadata": {
      "needs_background": "light"
     },
     "output_type": "display_data"
    }
   ],
   "source": [
    "l = 1000000\n",
    "t2_c1 = t2[t2.label==0]\n",
    "t2_c2 = t2[t2.label==1]\n",
    "plt.scatter(t2_c1['X'].values[0:l], t2_c1['Y'].values[0:l], c='r', s=50)\n",
    "plt.scatter(t2_c2['X'].values[0:l], t2_c2['Y'].values[0:l], c='b', s=50)"
   ]
  },
  {
   "cell_type": "code",
   "execution_count": null,
   "metadata": {},
   "outputs": [],
   "source": [
    "X = t2\n",
    "kmeans = KMeans(n_clusters=4, random_state=0).fit(t2)#['R','G','B']"
   ]
  },
  {
   "cell_type": "code",
   "execution_count": null,
   "metadata": {},
   "outputs": [],
   "source": [
    "l = 1000000\n",
    "t2_c1 = t2[t2.label==0]\n",
    "t2_c2 = t2[t2.label==1]\n",
    "t2_c3 = t2[t2.label==2]\n",
    "plt.scatter(t2_c1['X'].values[0:l], t2_c1['Y'].values[0:l], c='r', s=50)\n",
    "plt.scatter(t2_c2['X'].values[0:l], t2_c2['Y'].values[0:l], c='b', s=50)\n",
    "plt.scatter(t2_c3['X'].values[0:l], t2_c3['Y'].values[0:l], c='g', s=50)"
   ]
  },
  {
   "cell_type": "markdown",
   "metadata": {},
   "source": [
    "#### Clustering avec seulement RGB"
   ]
  },
  {
   "cell_type": "code",
   "execution_count": 7,
   "metadata": {},
   "outputs": [],
   "source": [
    "t2 = pd.read_csv('test.txt',sep=' ',names=colnames,header=None)\n",
    "kmeans = KMeans(n_clusters=2, random_state=0).fit(t2[['R','G','B']])#['R','G','B']\n"
   ]
  },
  {
   "cell_type": "code",
   "execution_count": 109,
   "metadata": {},
   "outputs": [],
   "source": [
    "y_kmeans = kmeans.predict(t2[['R','G','B']])\n",
    "l = len(t2)\n",
    "l = 100000\n",
    "t2['label'] = y_kmeans\n",
    "t2_c1 = t2[t2.label==0]\n",
    "t2_c2 = t2[t2.label==1]\n",
    "t2_c3 = t2[t2.label==2]\n",
    "t2_c4 = t2[t2.label==3]\n",
    "#plt.scatter(t2_c4['X'].values[0:l], t2_c4['Y'].values[0:l], c='m', s=50)\n",
    "t2_c1.to_csv(\"t2_c1.csv\")\n",
    "t2_c2.to_csv(\"t2_c2.csv\")"
   ]
  },
  {
   "cell_type": "code",
   "execution_count": 110,
   "metadata": {},
   "outputs": [
    {
     "data": {
      "text/plain": [
       "<matplotlib.collections.PathCollection at 0x1b1d32f98>"
      ]
     },
     "execution_count": 110,
     "metadata": {},
     "output_type": "execute_result"
    },
    {
     "data": {
      "image/png": "[encoded data removed]",
      "text/plain": [
       "<Figure size 432x288 with 1 Axes>"
      ]
     },
     "metadata": {
      "needs_background": "light"
     },
     "output_type": "display_data"
    }
   ],
   "source": [
    "plt.scatter(t2_c1['X'].values, t2_c1['Y'].values, c='r', s=1)\n",
    "plt.scatter(t2_c2['X'].values, t2_c2['Y'].values, c='b', s=1)\n",
    "plt.scatter(t2_c3['X'].values, t2_c3['Y'].values, c='g', s=1)\n",
    "plt.scatter(t2_c4['X'].values, t2_c4['Y'].values, c='m', s=1)"
   ]
  },
  {
   "cell_type": "code",
   "execution_count": 111,
   "metadata": {},
   "outputs": [],
   "source": [
    "t2_c1.to_csv(\"t2_c0.csv\")\n",
    "t2_c2.to_csv(\"t2_c01.csv\")"
   ]
  },
  {
   "cell_type": "code",
   "execution_count": 91,
   "metadata": {},
   "outputs": [],
   "source": [
    "count_label=t2['label'].value_counts(dropna=False)"
   ]
  },
  {
   "cell_type": "code",
   "execution_count": 97,
   "metadata": {},
   "outputs": [
    {
     "data": {
      "text/plain": [
       "[<matplotlib.lines.Line2D at 0x1fe7ebef0>]"
      ]
     },
     "execution_count": 97,
     "metadata": {},
     "output_type": "execute_result"
    },
    {
     "data": {
      "image/png": "[encoded data removed]",
      "text/plain": [
       "<Figure size 432x288 with 1 Axes>"
      ]
     },
     "metadata": {
      "needs_background": "light"
     },
     "output_type": "display_data"
    }
   ],
   "source": [
    "plt.plot(count_label,'+')"
   ]
  },
  {
   "cell_type": "code",
   "execution_count": 100,
   "metadata": {},
   "outputs": [
    {
     "data": {
      "text/plain": [
       "13797160"
      ]
     },
     "execution_count": 100,
     "metadata": {},
     "output_type": "execute_result"
    }
   ],
   "source": [
    "sum(count_label.values) "
   ]
  },
  {
   "cell_type": "code",
   "execution_count": 101,
   "metadata": {},
   "outputs": [
    {
     "data": {
      "text/plain": [
       "13797160"
      ]
     },
     "execution_count": 101,
     "metadata": {},
     "output_type": "execute_result"
    }
   ],
   "source": [
    "len(t2)"
   ]
  },
  {
   "cell_type": "code",
   "execution_count": 104,
   "metadata": {},
   "outputs": [],
   "source": [
    "t2_c1.to_csv(\"t2_c1.csv\")\n",
    "t2_c2.to_csv(\"t2_c2.csv\")"
   ]
  },
  {
   "cell_type": "code",
   "execution_count": 106,
   "metadata": {},
   "outputs": [],
   "source": [
    "t2_c2.to_csv(\"t2_c2.csv\")"
   ]
  },
  {
   "cell_type": "markdown",
   "metadata": {},
   "source": [
    "# RGB to HSV"
   ]
  },
  {
   "cell_type": "code",
   "execution_count": 8,
   "metadata": {},
   "outputs": [
    {
     "data": {
      "text/html": [
       "<div>\n",
       "<style scoped>\n",
       "    .dataframe tbody tr th:only-of-type {\n",
       "        vertical-align: middle;\n",
       "    }\n",
       "\n",
       "    .dataframe tbody tr th {\n",
       "        vertical-align: top;\n",
       "    }\n",
       "\n",
       "    .dataframe thead th {\n",
       "        text-align: right;\n",
       "    }\n",
       "</style>\n",
       "<table border=\"1\" class=\"dataframe\">\n",
       "  <thead>\n",
       "    <tr style=\"text-align: right;\">\n",
       "      <th></th>\n",
       "      <th>X</th>\n",
       "      <th>Y</th>\n",
       "      <th>Z</th>\n",
       "      <th>R</th>\n",
       "      <th>G</th>\n",
       "      <th>B</th>\n",
       "    </tr>\n",
       "  </thead>\n",
       "  <tbody>\n",
       "    <tr>\n",
       "      <th>0</th>\n",
       "      <td>492208.220001</td>\n",
       "      <td>4.651216e+06</td>\n",
       "      <td>224.860001</td>\n",
       "      <td>56</td>\n",
       "      <td>62</td>\n",
       "      <td>21</td>\n",
       "    </tr>\n",
       "    <tr>\n",
       "      <th>1</th>\n",
       "      <td>492208.230003</td>\n",
       "      <td>4.651216e+06</td>\n",
       "      <td>224.860001</td>\n",
       "      <td>42</td>\n",
       "      <td>48</td>\n",
       "      <td>18</td>\n",
       "    </tr>\n",
       "    <tr>\n",
       "      <th>2</th>\n",
       "      <td>492208.300003</td>\n",
       "      <td>4.651215e+06</td>\n",
       "      <td>224.770004</td>\n",
       "      <td>43</td>\n",
       "      <td>47</td>\n",
       "      <td>22</td>\n",
       "    </tr>\n",
       "    <tr>\n",
       "      <th>3</th>\n",
       "      <td>492208.190002</td>\n",
       "      <td>4.651209e+06</td>\n",
       "      <td>225.240005</td>\n",
       "      <td>64</td>\n",
       "      <td>71</td>\n",
       "      <td>20</td>\n",
       "    </tr>\n",
       "    <tr>\n",
       "      <th>4</th>\n",
       "      <td>492208.180000</td>\n",
       "      <td>4.651209e+06</td>\n",
       "      <td>225.289993</td>\n",
       "      <td>64</td>\n",
       "      <td>71</td>\n",
       "      <td>22</td>\n",
       "    </tr>\n",
       "  </tbody>\n",
       "</table>\n",
       "</div>"
      ],
      "text/plain": [
       "               X             Y           Z   R   G   B\n",
       "0  492208.220001  4.651216e+06  224.860001  56  62  21\n",
       "1  492208.230003  4.651216e+06  224.860001  42  48  18\n",
       "2  492208.300003  4.651215e+06  224.770004  43  47  22\n",
       "3  492208.190002  4.651209e+06  225.240005  64  71  20\n",
       "4  492208.180000  4.651209e+06  225.289993  64  71  22"
      ]
     },
     "execution_count": 8,
     "metadata": {},
     "output_type": "execute_result"
    }
   ],
   "source": [
    "t2.head()"
   ]
  },
  {
   "cell_type": "code",
   "execution_count": 137,
   "metadata": {},
   "outputs": [],
   "source": [
    "t2 = t2.head(1000)\n",
    "t2['delta'] = t2.apply(lambda row: np.float(max(row.R/255.,row.G/255.,row.B/255.)-min(row.R/255.,row.G/255.,row.B/255.)),axis=1)\n",
    "t2['Cmax'] = t2.apply(lambda row: np.float(max(row.R/255,row.G/255,row.B/255)),axis=1)\n"
   ]
  },
  {
   "cell_type": "code",
   "execution_count": 138,
   "metadata": {},
   "outputs": [
    {
     "data": {
      "text/html": [
       "<div>\n",
       "<style scoped>\n",
       "    .dataframe tbody tr th:only-of-type {\n",
       "        vertical-align: middle;\n",
       "    }\n",
       "\n",
       "    .dataframe tbody tr th {\n",
       "        vertical-align: top;\n",
       "    }\n",
       "\n",
       "    .dataframe thead th {\n",
       "        text-align: right;\n",
       "    }\n",
       "</style>\n",
       "<table border=\"1\" class=\"dataframe\">\n",
       "  <thead>\n",
       "    <tr style=\"text-align: right;\">\n",
       "      <th></th>\n",
       "      <th>X</th>\n",
       "      <th>Y</th>\n",
       "      <th>Z</th>\n",
       "      <th>R</th>\n",
       "      <th>G</th>\n",
       "      <th>B</th>\n",
       "      <th>label</th>\n",
       "      <th>delta</th>\n",
       "      <th>Cmax</th>\n",
       "    </tr>\n",
       "  </thead>\n",
       "  <tbody>\n",
       "    <tr>\n",
       "      <th>0</th>\n",
       "      <td>492208.220001</td>\n",
       "      <td>4.651216e+06</td>\n",
       "      <td>224.860001</td>\n",
       "      <td>56</td>\n",
       "      <td>62</td>\n",
       "      <td>21</td>\n",
       "      <td>0</td>\n",
       "      <td>0.160784</td>\n",
       "      <td>0.243137</td>\n",
       "    </tr>\n",
       "    <tr>\n",
       "      <th>1</th>\n",
       "      <td>492208.230003</td>\n",
       "      <td>4.651216e+06</td>\n",
       "      <td>224.860001</td>\n",
       "      <td>42</td>\n",
       "      <td>48</td>\n",
       "      <td>18</td>\n",
       "      <td>0</td>\n",
       "      <td>0.117647</td>\n",
       "      <td>0.188235</td>\n",
       "    </tr>\n",
       "    <tr>\n",
       "      <th>2</th>\n",
       "      <td>492208.300003</td>\n",
       "      <td>4.651215e+06</td>\n",
       "      <td>224.770004</td>\n",
       "      <td>43</td>\n",
       "      <td>47</td>\n",
       "      <td>22</td>\n",
       "      <td>0</td>\n",
       "      <td>0.098039</td>\n",
       "      <td>0.184314</td>\n",
       "    </tr>\n",
       "    <tr>\n",
       "      <th>3</th>\n",
       "      <td>492208.190002</td>\n",
       "      <td>4.651209e+06</td>\n",
       "      <td>225.240005</td>\n",
       "      <td>64</td>\n",
       "      <td>71</td>\n",
       "      <td>20</td>\n",
       "      <td>0</td>\n",
       "      <td>0.200000</td>\n",
       "      <td>0.278431</td>\n",
       "    </tr>\n",
       "    <tr>\n",
       "      <th>4</th>\n",
       "      <td>492208.180000</td>\n",
       "      <td>4.651209e+06</td>\n",
       "      <td>225.289993</td>\n",
       "      <td>64</td>\n",
       "      <td>71</td>\n",
       "      <td>22</td>\n",
       "      <td>0</td>\n",
       "      <td>0.192157</td>\n",
       "      <td>0.278431</td>\n",
       "    </tr>\n",
       "  </tbody>\n",
       "</table>\n",
       "</div>"
      ],
      "text/plain": [
       "               X             Y           Z   R   G   B  label     delta  \\\n",
       "0  492208.220001  4.651216e+06  224.860001  56  62  21      0  0.160784   \n",
       "1  492208.230003  4.651216e+06  224.860001  42  48  18      0  0.117647   \n",
       "2  492208.300003  4.651215e+06  224.770004  43  47  22      0  0.098039   \n",
       "3  492208.190002  4.651209e+06  225.240005  64  71  20      0  0.200000   \n",
       "4  492208.180000  4.651209e+06  225.289993  64  71  22      0  0.192157   \n",
       "\n",
       "       Cmax  \n",
       "0  0.243137  \n",
       "1  0.188235  \n",
       "2  0.184314  \n",
       "3  0.278431  \n",
       "4  0.278431  "
      ]
     },
     "execution_count": 138,
     "metadata": {},
     "output_type": "execute_result"
    }
   ],
   "source": [
    "t2.head()"
   ]
  },
  {
   "cell_type": "code",
   "execution_count": 164,
   "metadata": {},
   "outputs": [],
   "source": [
    "condlist = [ t2['Cmax']== t2['R']/255., t2['Cmax']== t2['G']/255., t2['Cmax']== t2['B']/255.]\n",
    "choicelist = [ 60 * (((t2['G']/255. - t2['B']/255.)/t2['delta']) % 6),  60 * (((t2['B']/255. - t2['R']/255.)/t2['delta']) + 2), 60 * (((t2['R']/255.-t2['G']/255.)/t2['delta']) + 4)]\n",
    "t2['Hh'] =(np.select(condlist, choicelist))\n"
   ]
  },
  {
   "cell_type": "code",
   "execution_count": 165,
   "metadata": {},
   "outputs": [
    {
     "data": {
      "text/html": [
       "<div>\n",
       "<style scoped>\n",
       "    .dataframe tbody tr th:only-of-type {\n",
       "        vertical-align: middle;\n",
       "    }\n",
       "\n",
       "    .dataframe tbody tr th {\n",
       "        vertical-align: top;\n",
       "    }\n",
       "\n",
       "    .dataframe thead th {\n",
       "        text-align: right;\n",
       "    }\n",
       "</style>\n",
       "<table border=\"1\" class=\"dataframe\">\n",
       "  <thead>\n",
       "    <tr style=\"text-align: right;\">\n",
       "      <th></th>\n",
       "      <th>X</th>\n",
       "      <th>Y</th>\n",
       "      <th>Z</th>\n",
       "      <th>R</th>\n",
       "      <th>G</th>\n",
       "      <th>B</th>\n",
       "      <th>label</th>\n",
       "      <th>delta</th>\n",
       "      <th>Cmax</th>\n",
       "      <th>H</th>\n",
       "      <th>S</th>\n",
       "      <th>V</th>\n",
       "      <th>Hh</th>\n",
       "    </tr>\n",
       "  </thead>\n",
       "  <tbody>\n",
       "    <tr>\n",
       "      <th>0</th>\n",
       "      <td>492208.220001</td>\n",
       "      <td>4.651216e+06</td>\n",
       "      <td>224.860001</td>\n",
       "      <td>56</td>\n",
       "      <td>62</td>\n",
       "      <td>21</td>\n",
       "      <td>0</td>\n",
       "      <td>0.160784</td>\n",
       "      <td>0.243137</td>\n",
       "      <td>0.0</td>\n",
       "      <td>0.661290</td>\n",
       "      <td>0.243137</td>\n",
       "      <td>68.780488</td>\n",
       "    </tr>\n",
       "    <tr>\n",
       "      <th>1</th>\n",
       "      <td>492208.230003</td>\n",
       "      <td>4.651216e+06</td>\n",
       "      <td>224.860001</td>\n",
       "      <td>42</td>\n",
       "      <td>48</td>\n",
       "      <td>18</td>\n",
       "      <td>0</td>\n",
       "      <td>0.117647</td>\n",
       "      <td>0.188235</td>\n",
       "      <td>0.0</td>\n",
       "      <td>0.625000</td>\n",
       "      <td>0.188235</td>\n",
       "      <td>72.000000</td>\n",
       "    </tr>\n",
       "    <tr>\n",
       "      <th>2</th>\n",
       "      <td>492208.300003</td>\n",
       "      <td>4.651215e+06</td>\n",
       "      <td>224.770004</td>\n",
       "      <td>43</td>\n",
       "      <td>47</td>\n",
       "      <td>22</td>\n",
       "      <td>0</td>\n",
       "      <td>0.098039</td>\n",
       "      <td>0.184314</td>\n",
       "      <td>0.0</td>\n",
       "      <td>0.531915</td>\n",
       "      <td>0.184314</td>\n",
       "      <td>69.600000</td>\n",
       "    </tr>\n",
       "    <tr>\n",
       "      <th>3</th>\n",
       "      <td>492208.190002</td>\n",
       "      <td>4.651209e+06</td>\n",
       "      <td>225.240005</td>\n",
       "      <td>64</td>\n",
       "      <td>71</td>\n",
       "      <td>20</td>\n",
       "      <td>0</td>\n",
       "      <td>0.200000</td>\n",
       "      <td>0.278431</td>\n",
       "      <td>0.0</td>\n",
       "      <td>0.718310</td>\n",
       "      <td>0.278431</td>\n",
       "      <td>68.235294</td>\n",
       "    </tr>\n",
       "    <tr>\n",
       "      <th>4</th>\n",
       "      <td>492208.180000</td>\n",
       "      <td>4.651209e+06</td>\n",
       "      <td>225.289993</td>\n",
       "      <td>64</td>\n",
       "      <td>71</td>\n",
       "      <td>22</td>\n",
       "      <td>0</td>\n",
       "      <td>0.192157</td>\n",
       "      <td>0.278431</td>\n",
       "      <td>0.0</td>\n",
       "      <td>0.690141</td>\n",
       "      <td>0.278431</td>\n",
       "      <td>68.571429</td>\n",
       "    </tr>\n",
       "  </tbody>\n",
       "</table>\n",
       "</div>"
      ],
      "text/plain": [
       "               X             Y           Z   R   G   B  label     delta  \\\n",
       "0  492208.220001  4.651216e+06  224.860001  56  62  21      0  0.160784   \n",
       "1  492208.230003  4.651216e+06  224.860001  42  48  18      0  0.117647   \n",
       "2  492208.300003  4.651215e+06  224.770004  43  47  22      0  0.098039   \n",
       "3  492208.190002  4.651209e+06  225.240005  64  71  20      0  0.200000   \n",
       "4  492208.180000  4.651209e+06  225.289993  64  71  22      0  0.192157   \n",
       "\n",
       "       Cmax    H         S         V         Hh  \n",
       "0  0.243137  0.0  0.661290  0.243137  68.780488  \n",
       "1  0.188235  0.0  0.625000  0.188235  72.000000  \n",
       "2  0.184314  0.0  0.531915  0.184314  69.600000  \n",
       "3  0.278431  0.0  0.718310  0.278431  68.235294  \n",
       "4  0.278431  0.0  0.690141  0.278431  68.571429  "
      ]
     },
     "execution_count": 165,
     "metadata": {},
     "output_type": "execute_result"
    }
   ],
   "source": [
    "condlist = [t2['Cmax'] == 0, t2['Cmax'] !=0 ]\n",
    "choicelist = [0,t2['delta']/t2['Cmax']]\n",
    "t2['S'] = np.select(condlist, choicelist)\n",
    "t2['V'] = t2['Cmax'] \n",
    "t2.head()"
   ]
  },
  {
   "cell_type": "code",
   "execution_count": 176,
   "metadata": {},
   "outputs": [
    {
     "data": {
      "text/plain": [
       "<matplotlib.axes._subplots.AxesSubplot at 0x200843ac8>"
      ]
     },
     "execution_count": 176,
     "metadata": {},
     "output_type": "execute_result"
    },
    {
     "data": {
      "image/png": "[encoded data removed]",
      "text/plain": [
       "<Figure size 432x288 with 1 Axes>"
      ]
     },
     "metadata": {
      "needs_background": "light"
     },
     "output_type": "display_data"
    }
   ],
   "source": [
    "sns.distplot(t2['Z'])"
   ]
  },
  {
   "cell_type": "code",
   "execution_count": 174,
   "metadata": {},
   "outputs": [
    {
     "data": {
      "image/png": "[encoded data removed]",
      "text/plain": [
       "<Figure size 432x288 with 1 Axes>"
      ]
     },
     "metadata": {
      "needs_background": "light"
     },
     "output_type": "display_data"
    }
   ],
   "source": [
    "#sns.distplot(t2['H'],color='r',label = 'Canal HUE')\n",
    "sns.distplot(t2['S'],color='b', label = 'Canal SATURATION')\n",
    "sns.distplot(t2['V'],color='g',label = 'Canal VALUE')\n",
    "\n",
    "plt.legend();"
   ]
  },
  {
   "cell_type": "code",
   "execution_count": 170,
   "metadata": {},
   "outputs": [
    {
     "data": {
      "text/html": [
       "<div>\n",
       "<style scoped>\n",
       "    .dataframe tbody tr th:only-of-type {\n",
       "        vertical-align: middle;\n",
       "    }\n",
       "\n",
       "    .dataframe tbody tr th {\n",
       "        vertical-align: top;\n",
       "    }\n",
       "\n",
       "    .dataframe thead th {\n",
       "        text-align: right;\n",
       "    }\n",
       "</style>\n",
       "<table border=\"1\" class=\"dataframe\">\n",
       "  <thead>\n",
       "    <tr style=\"text-align: right;\">\n",
       "      <th></th>\n",
       "      <th>H</th>\n",
       "      <th>S</th>\n",
       "      <th>V</th>\n",
       "    </tr>\n",
       "  </thead>\n",
       "  <tbody>\n",
       "    <tr>\n",
       "      <th>count</th>\n",
       "      <td>1000.0</td>\n",
       "      <td>1000.000000</td>\n",
       "      <td>1000.000000</td>\n",
       "    </tr>\n",
       "    <tr>\n",
       "      <th>mean</th>\n",
       "      <td>0.0</td>\n",
       "      <td>0.541194</td>\n",
       "      <td>0.279733</td>\n",
       "    </tr>\n",
       "    <tr>\n",
       "      <th>std</th>\n",
       "      <td>0.0</td>\n",
       "      <td>0.108747</td>\n",
       "      <td>0.115998</td>\n",
       "    </tr>\n",
       "    <tr>\n",
       "      <th>min</th>\n",
       "      <td>0.0</td>\n",
       "      <td>0.181818</td>\n",
       "      <td>0.105882</td>\n",
       "    </tr>\n",
       "    <tr>\n",
       "      <th>25%</th>\n",
       "      <td>0.0</td>\n",
       "      <td>0.465065</td>\n",
       "      <td>0.196078</td>\n",
       "    </tr>\n",
       "    <tr>\n",
       "      <th>50%</th>\n",
       "      <td>0.0</td>\n",
       "      <td>0.534884</td>\n",
       "      <td>0.254902</td>\n",
       "    </tr>\n",
       "    <tr>\n",
       "      <th>75%</th>\n",
       "      <td>0.0</td>\n",
       "      <td>0.626866</td>\n",
       "      <td>0.329412</td>\n",
       "    </tr>\n",
       "    <tr>\n",
       "      <th>max</th>\n",
       "      <td>0.0</td>\n",
       "      <td>0.792208</td>\n",
       "      <td>0.690196</td>\n",
       "    </tr>\n",
       "  </tbody>\n",
       "</table>\n",
       "</div>"
      ],
      "text/plain": [
       "            H            S            V\n",
       "count  1000.0  1000.000000  1000.000000\n",
       "mean      0.0     0.541194     0.279733\n",
       "std       0.0     0.108747     0.115998\n",
       "min       0.0     0.181818     0.105882\n",
       "25%       0.0     0.465065     0.196078\n",
       "50%       0.0     0.534884     0.254902\n",
       "75%       0.0     0.626866     0.329412\n",
       "max       0.0     0.792208     0.690196"
      ]
     },
     "execution_count": 170,
     "metadata": {},
     "output_type": "execute_result"
    }
   ],
   "source": [
    "t2[['H','S','V']].describe()"
   ]
  },
  {
   "cell_type": "markdown",
   "metadata": {},
   "source": [
    "#### Observation : \n",
    "1.\n",
    "\n",
    "2.\n"
   ]
  },
  {
   "cell_type": "markdown",
   "metadata": {},
   "source": [
    "### Clustering with HSV "
   ]
  },
  {
   "cell_type": "code",
   "execution_count": null,
   "metadata": {},
   "outputs": [],
   "source": []
  },
  {
   "cell_type": "code",
   "execution_count": null,
   "metadata": {},
   "outputs": [],
   "source": []
  },
  {
   "cell_type": "markdown",
   "metadata": {},
   "source": [
    "### Contour with scikit image"
   ]
  },
  {
   "cell_type": "code",
   "execution_count": 175,
   "metadata": {},
   "outputs": [],
   "source": [
    " from skimage.morphology import watershed"
   ]
  },
  {
   "cell_type": "code",
   "execution_count": null,
   "metadata": {},
   "outputs": [],
   "source": []
  },
  {
   "cell_type": "markdown",
   "metadata": {},
   "source": [
    "# Contour with erosion, dilation filtering"
   ]
  },
  {
   "cell_type": "code",
   "execution_count": 10,
   "metadata": {},
   "outputs": [],
   "source": [
    "import cv2\n"
   ]
  },
  {
   "cell_type": "code",
   "execution_count": 11,
   "metadata": {},
   "outputs": [],
   "source": [
    "img = cv2.imread('raster.tif',0)"
   ]
  },
  {
   "cell_type": "code",
   "execution_count": 14,
   "metadata": {},
   "outputs": [],
   "source": [
    "kernel = np.ones((1,1),np.uint8)\n",
    "erosion = cv2.erode(img,kernel,iterations = 1)"
   ]
  },
  {
   "cell_type": "code",
   "execution_count": 17,
   "metadata": {},
   "outputs": [
    {
     "ename": "TypeError",
     "evalue": "Image data cannot be converted to float",
     "output_type": "error",
     "traceback": [
      "\u001b[0;31m---------------------------------------------------------------------------\u001b[0m",
      "\u001b[0;31mTypeError\u001b[0m                                 Traceback (most recent call last)",
      "\u001b[0;32m<ipython-input-17-e6475dbd4112>\u001b[0m in \u001b[0;36m<module>\u001b[0;34m\u001b[0m\n\u001b[0;32m----> 1\u001b[0;31m \u001b[0mplt\u001b[0m\u001b[0;34m.\u001b[0m\u001b[0mimshow\u001b[0m\u001b[0;34m(\u001b[0m\u001b[0merosion\u001b[0m\u001b[0;34m)\u001b[0m\u001b[0;34m\u001b[0m\u001b[0;34m\u001b[0m\u001b[0m\n\u001b[0m",
      "\u001b[0;32m~/anaconda3/lib/python3.7/site-packages/matplotlib/pyplot.py\u001b[0m in \u001b[0;36mimshow\u001b[0;34m(X, cmap, norm, aspect, interpolation, alpha, vmin, vmax, origin, extent, shape, filternorm, filterrad, imlim, resample, url, data, **kwargs)\u001b[0m\n\u001b[1;32m   2697\u001b[0m         \u001b[0mfilternorm\u001b[0m\u001b[0;34m=\u001b[0m\u001b[0mfilternorm\u001b[0m\u001b[0;34m,\u001b[0m \u001b[0mfilterrad\u001b[0m\u001b[0;34m=\u001b[0m\u001b[0mfilterrad\u001b[0m\u001b[0;34m,\u001b[0m \u001b[0mimlim\u001b[0m\u001b[0;34m=\u001b[0m\u001b[0mimlim\u001b[0m\u001b[0;34m,\u001b[0m\u001b[0;34m\u001b[0m\u001b[0;34m\u001b[0m\u001b[0m\n\u001b[1;32m   2698\u001b[0m         resample=resample, url=url, **({\"data\": data} if data is not\n\u001b[0;32m-> 2699\u001b[0;31m         None else {}), **kwargs)\n\u001b[0m\u001b[1;32m   2700\u001b[0m     \u001b[0msci\u001b[0m\u001b[0;34m(\u001b[0m\u001b[0m__ret\u001b[0m\u001b[0;34m)\u001b[0m\u001b[0;34m\u001b[0m\u001b[0;34m\u001b[0m\u001b[0m\n\u001b[1;32m   2701\u001b[0m     \u001b[0;32mreturn\u001b[0m \u001b[0m__ret\u001b[0m\u001b[0;34m\u001b[0m\u001b[0;34m\u001b[0m\u001b[0m\n",
      "\u001b[0;32m~/anaconda3/lib/python3.7/site-packages/matplotlib/__init__.py\u001b[0m in \u001b[0;36minner\u001b[0;34m(ax, data, *args, **kwargs)\u001b[0m\n\u001b[1;32m   1808\u001b[0m                         \u001b[0;34m\"the Matplotlib list!)\"\u001b[0m \u001b[0;34m%\u001b[0m \u001b[0;34m(\u001b[0m\u001b[0mlabel_namer\u001b[0m\u001b[0;34m,\u001b[0m \u001b[0mfunc\u001b[0m\u001b[0;34m.\u001b[0m\u001b[0m__name__\u001b[0m\u001b[0;34m)\u001b[0m\u001b[0;34m,\u001b[0m\u001b[0;34m\u001b[0m\u001b[0;34m\u001b[0m\u001b[0m\n\u001b[1;32m   1809\u001b[0m                         RuntimeWarning, stacklevel=2)\n\u001b[0;32m-> 1810\u001b[0;31m             \u001b[0;32mreturn\u001b[0m \u001b[0mfunc\u001b[0m\u001b[0;34m(\u001b[0m\u001b[0max\u001b[0m\u001b[0;34m,\u001b[0m \u001b[0;34m*\u001b[0m\u001b[0margs\u001b[0m\u001b[0;34m,\u001b[0m \u001b[0;34m**\u001b[0m\u001b[0mkwargs\u001b[0m\u001b[0;34m)\u001b[0m\u001b[0;34m\u001b[0m\u001b[0;34m\u001b[0m\u001b[0m\n\u001b[0m\u001b[1;32m   1811\u001b[0m \u001b[0;34m\u001b[0m\u001b[0m\n\u001b[1;32m   1812\u001b[0m         inner.__doc__ = _add_data_doc(inner.__doc__,\n",
      "\u001b[0;32m~/anaconda3/lib/python3.7/site-packages/matplotlib/axes/_axes.py\u001b[0m in \u001b[0;36mimshow\u001b[0;34m(self, X, cmap, norm, aspect, interpolation, alpha, vmin, vmax, origin, extent, shape, filternorm, filterrad, imlim, resample, url, **kwargs)\u001b[0m\n\u001b[1;32m   5492\u001b[0m                               resample=resample, **kwargs)\n\u001b[1;32m   5493\u001b[0m \u001b[0;34m\u001b[0m\u001b[0m\n\u001b[0;32m-> 5494\u001b[0;31m         \u001b[0mim\u001b[0m\u001b[0;34m.\u001b[0m\u001b[0mset_data\u001b[0m\u001b[0;34m(\u001b[0m\u001b[0mX\u001b[0m\u001b[0;34m)\u001b[0m\u001b[0;34m\u001b[0m\u001b[0;34m\u001b[0m\u001b[0m\n\u001b[0m\u001b[1;32m   5495\u001b[0m         \u001b[0mim\u001b[0m\u001b[0;34m.\u001b[0m\u001b[0mset_alpha\u001b[0m\u001b[0;34m(\u001b[0m\u001b[0malpha\u001b[0m\u001b[0;34m)\u001b[0m\u001b[0;34m\u001b[0m\u001b[0;34m\u001b[0m\u001b[0m\n\u001b[1;32m   5496\u001b[0m         \u001b[0;32mif\u001b[0m \u001b[0mim\u001b[0m\u001b[0;34m.\u001b[0m\u001b[0mget_clip_path\u001b[0m\u001b[0;34m(\u001b[0m\u001b[0;34m)\u001b[0m \u001b[0;32mis\u001b[0m \u001b[0;32mNone\u001b[0m\u001b[0;34m:\u001b[0m\u001b[0;34m\u001b[0m\u001b[0;34m\u001b[0m\u001b[0m\n",
      "\u001b[0;32m~/anaconda3/lib/python3.7/site-packages/matplotlib/image.py\u001b[0m in \u001b[0;36mset_data\u001b[0;34m(self, A)\u001b[0m\n\u001b[1;32m    632\u001b[0m         if (self._A.dtype != np.uint8 and\n\u001b[1;32m    633\u001b[0m                 not np.can_cast(self._A.dtype, float, \"same_kind\")):\n\u001b[0;32m--> 634\u001b[0;31m             \u001b[0;32mraise\u001b[0m \u001b[0mTypeError\u001b[0m\u001b[0;34m(\u001b[0m\u001b[0;34m\"Image data cannot be converted to float\"\u001b[0m\u001b[0;34m)\u001b[0m\u001b[0;34m\u001b[0m\u001b[0;34m\u001b[0m\u001b[0m\n\u001b[0m\u001b[1;32m    635\u001b[0m \u001b[0;34m\u001b[0m\u001b[0m\n\u001b[1;32m    636\u001b[0m         if not (self._A.ndim == 2\n",
      "\u001b[0;31mTypeError\u001b[0m: Image data cannot be converted to float"
     ]
    },
    {
     "data": {
      "image/png": "[encoded data removed]",
      "text/plain": [
       "<Figure size 432x288 with 1 Axes>"
      ]
     },
     "metadata": {
      "needs_background": "light"
     },
     "output_type": "display_data"
    }
   ],
   "source": [
    "plt.imshow(erosion)"
   ]
  },
  {
   "cell_type": "code",
   "execution_count": null,
   "metadata": {},
   "outputs": [],
   "source": []
  }
 ],
 "metadata": {
  "kernelspec": {
   "display_name": "Python 3",
   "language": "python",
   "name": "python3"
  },
  "language_info": {
   "codemirror_mode": {
    "name": "ipython",
    "version": 3
   },
   "file_extension": ".py",
   "mimetype": "text/x-python",
   "name": "python",
   "nbconvert_exporter": "python",
   "pygments_lexer": "ipython3",
   "version": "3.7.3"
  },
  "latex_envs": {
   "LaTeX_envs_menu_present": true,
   "autoclose": false,
   "autocomplete": true,
   "bibliofile": "biblio.bib",
   "cite_by": "apalike",
   "current_citInitial": 1,
   "eqLabelWithNumbers": true,
   "eqNumInitial": 1,
   "hotkeys": {
    "equation": "Ctrl-E",
    "itemize": "Ctrl-I"
   },
   "labels_anchors": false,
   "latex_user_defs": false,
   "report_style_numbering": false,
   "user_envs_cfg": false
  },
  "toc": {
   "base_numbering": 1,
   "nav_menu": {},
   "number_sections": true,
   "sideBar": true,
   "skip_h1_title": true,
   "title_cell": "Table of Contents",
   "title_sidebar": "Contents",
   "toc_cell": true,
   "toc_position": {},
   "toc_section_display": true,
   "toc_window_display": true
  }
 },
 "nbformat": 4,
 "nbformat_minor": 2
}
